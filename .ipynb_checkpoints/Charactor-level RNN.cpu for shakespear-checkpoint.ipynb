{
 "cells": [
  {
   "cell_type": "markdown",
   "metadata": {
    "collapsed": false
   },
   "source": [
    "# Charactor-level RNN for shakespear"
   ]
  },
  {
   "cell_type": "markdown",
   "metadata": {},
   "source": [
    "    modified from https://pytorch.org/tutorials/intermediate/char_rnn_generation_tutorial.html"
   ]
  },
  {
   "cell_type": "code",
   "execution_count": 1,
   "metadata": {
    "collapsed": true
   },
   "outputs": [],
   "source": [
    "from __future__ import unicode_literals, print_function, division\n",
    "from io import open\n",
    "import glob\n",
    "import os\n",
    "import unicodedata\n",
    "import string\n",
    "\n",
    "import time\n",
    "import math\n"
   ]
  },
  {
   "cell_type": "code",
   "execution_count": 3,
   "metadata": {
    "collapsed": false
   },
   "outputs": [
    {
     "name": "stdout",
     "output_type": "stream",
     "text": [
      "data has 1000000 characters, 65 unique.\n"
     ]
    }
   ],
   "source": [
    "# parameter\n",
    "keywords_dict ={}\n",
    "keywords_dict['hidden_size'] = 100\n",
    "keywords_dict['seq_length'] = 25\n",
    "keywords_dict['learning_rate'] = 0.001\n",
    "\n",
    "data = open('data/shakespeare_input.txt', 'r').read() # should be simple plain text file\n",
    "data = data[:1000000]\n",
    "chars = list(set(data))\n",
    "data_size, vocab_size = len(data), len(chars)\n",
    "keywords_dict['data_size'] = data_size\n",
    "keywords_dict['all_letters'] = ''.join(sorted(chars))\n",
    "keywords_dict['n_letters'] = len(chars)\n",
    "print('data has %d characters, %d unique.' % (data_size, vocab_size))\n",
    "char_to_ix = { ch:i for i,ch in enumerate(chars) }\n",
    "ix_to_char = { i:ch for i,ch in enumerate(chars) }\n"
   ]
  },
  {
   "cell_type": "code",
   "execution_count": 4,
   "metadata": {
    "collapsed": true
   },
   "outputs": [],
   "source": [
    "def timeSince(since):\n",
    "    now = time.time()\n",
    "    s = now - since\n",
    "    m = math.floor(s / 60)\n",
    "    s -= m * 60\n",
    "    return '%dm %ds' % (m, s)"
   ]
  },
  {
   "cell_type": "code",
   "execution_count": 8,
   "metadata": {
    "collapsed": true
   },
   "outputs": [],
   "source": [
    "import torch\n",
    "import torch.nn as nn\n",
    "\n",
    "class RNN(nn.Module):\n",
    "    def __init__(self, input_size, hidden_size, output_size):\n",
    "        super().__init__()\n",
    "        self.hidden_size = hidden_size\n",
    "        self.W_xh = nn.Linear(input_size, hidden_size)\n",
    "        self.W_hh = nn.Linear(hidden_size, hidden_size)\n",
    "        self.W_hy = nn.Linear(hidden_size, output_size)\n",
    "        self.act = nn.Tanh()\n",
    "        self.dropout = nn.Dropout(0.1)\n",
    "        self.softmax = nn.LogSoftmax(dim=1)\n",
    "\n",
    "    def forward(self, _input, hidden):\n",
    "        hidden = self.W_xh(_input).add(self.W_hh(hidden))\n",
    "        hidden = self.act(hidden)\n",
    "        output = self.W_hy(hidden)\n",
    "        output = self.dropout(output)\n",
    "        output = self.softmax(output)\n",
    "        return output, hidden\n",
    "\n",
    "    def initHidden(self):\n",
    "        return torch.zeros(1, self.hidden_size)\n",
    "    \n"
   ]
  },
  {
   "cell_type": "code",
   "execution_count": null,
   "metadata": {
    "collapsed": true
   },
   "outputs": [],
   "source": []
  },
  {
   "cell_type": "code",
   "execution_count": 6,
   "metadata": {
    "collapsed": true
   },
   "outputs": [],
   "source": [
    "# One-hot matrix of first to last letters (not including EOS) for input\n",
    "def inputTensor(line, keywords_dict):\n",
    "    all_letters = keywords_dict['all_letters']\n",
    "    n_letters = keywords_dict['n_letters']\n",
    "    tensor = torch.zeros(len(line), 1, n_letters)\n",
    "    for li in range(len(line)):\n",
    "        letter = line[li]\n",
    "#         print(letter)\n",
    "        tensor[li][0][all_letters.find(letter)] = 1\n",
    "    return tensor\n",
    "\n",
    "# LongTensor of second letter to end (EOS) for target\n",
    "def targetTensor(line, keywords_dict):\n",
    "    all_letters = keywords_dict['all_letters']\n",
    "    n_letters = keywords_dict['n_letters']\n",
    "    letter_indexes = [all_letters.find(line[li]) for li in range(1, len(line))]\n",
    "    letter_indexes.append(n_letters - 1) # EOS\n",
    "    return torch.LongTensor(letter_indexes)\n",
    "\n",
    "def createTrainingExample(line, keywords_dict):\n",
    "#     category, line = randomTrainingPair()\n",
    "#     line = randomChoice(keywords_dict['name_vector'])\n",
    "#     category_tensor = categoryTensor(category)\n",
    "    input_line_tensor = inputTensor(line[:-1], keywords_dict)\n",
    "#     print(input_line_tensor)\n",
    "    target_line_tensor = targetTensor(line[1:], keywords_dict)\n",
    "#     print(target_line_tensor)\n",
    "\n",
    "#     return category_tensor, input_line_tensor, target_line_tensor\n",
    "    return input_line_tensor, target_line_tensor"
   ]
  },
  {
   "cell_type": "code",
   "execution_count": 7,
   "metadata": {
    "collapsed": false,
    "scrolled": true
   },
   "outputs": [
    {
     "name": "stdout",
     "output_type": "stream",
     "text": [
      "0m 40s (5000 12%) 74.8948\n",
      "1m 22s (10000 25%) 72.3660\n",
      "2m 7s (15000 37%) 59.4150\n",
      "2m 55s (20000 50%) 65.2377\n",
      "3m 38s (25000 62%) 75.3467\n",
      "4m 20s (30000 75%) 49.8004\n",
      "5m 1s (35000 87%) 79.1846\n",
      "5m 42s (40000 100%) 82.5533\n",
      "6m 26s (45000 112%) 66.5690\n",
      "7m 10s (50000 125%) 62.3192\n",
      "7m 54s (55000 137%) 75.7857\n",
      "8m 35s (60000 150%) 59.6011\n",
      "9m 18s (65000 162%) 71.8163\n",
      "10m 2s (70000 175%) 72.1234\n",
      "10m 46s (75000 187%) 45.4798\n",
      "11m 28s (80000 200%) 58.9451\n",
      "12m 10s (85000 212%) 72.5999\n",
      "12m 52s (90000 225%) 60.3428\n",
      "13m 35s (95000 237%) 86.8605\n",
      "14m 18s (100000 250%) 61.7535\n",
      "14m 59s (105000 262%) 68.8575\n",
      "15m 40s (110000 275%) 78.8668\n",
      "16m 22s (115000 287%) 46.6769\n",
      "17m 3s (120000 300%) 78.2617\n",
      "17m 44s (125000 312%) 72.3784\n",
      "18m 25s (130000 325%) 76.7444\n",
      "19m 6s (135000 337%) 77.3742\n",
      "19m 48s (140000 350%) 55.7929\n",
      "20m 30s (145000 362%) 70.3766\n",
      "21m 13s (150000 375%) 59.2016\n",
      "21m 58s (155000 387%) 61.1373\n",
      "22m 38s (160000 400%) 69.8092\n",
      "23m 19s (165000 412%) 74.8638\n",
      "24m 1s (170000 425%) 68.0648\n",
      "24m 41s (175000 437%) 72.2072\n",
      "25m 21s (180000 450%) 73.6278\n",
      "26m 1s (185000 462%) 66.0749\n",
      "26m 41s (190000 475%) 65.7158\n",
      "27m 20s (195000 487%) 61.4061\n",
      "28m 0s (200000 500%) 69.3724\n",
      "28m 39s (205000 512%) 76.1658\n",
      "29m 19s (210000 525%) 63.4133\n",
      "29m 58s (215000 537%) 58.3656\n",
      "30m 38s (220000 550%) 64.2769\n",
      "31m 17s (225000 562%) 69.0378\n",
      "31m 56s (230000 575%) 65.8939\n",
      "32m 35s (235000 587%) 69.2552\n",
      "33m 14s (240000 600%) 71.2678\n",
      "33m 53s (245000 612%) 71.0751\n",
      "34m 32s (250000 625%) 74.9293\n",
      "35m 12s (255000 637%) 77.7391\n",
      "35m 52s (260000 650%) 68.4487\n",
      "36m 35s (265000 662%) 71.9980\n",
      "37m 18s (270000 675%) 70.1246\n",
      "37m 59s (275000 687%) 69.9344\n",
      "38m 40s (280000 700%) 83.0875\n",
      "39m 20s (285000 712%) 73.7435\n",
      "40m 3s (290000 725%) 74.4806\n",
      "40m 46s (295000 737%) 70.3650\n",
      "41m 27s (300000 750%) 60.4926\n",
      "42m 14s (305000 762%) 62.2877\n",
      "43m 0s (310000 775%) 66.9058\n",
      "43m 45s (315000 787%) 78.1916\n",
      "44m 33s (320000 800%) 56.7004\n",
      "45m 25s (325000 812%) 61.7685\n",
      "46m 11s (330000 825%) 80.8484\n",
      "47m 0s (335000 837%) 56.4375\n",
      "47m 45s (340000 850%) 64.9017\n",
      "48m 34s (345000 862%) 71.4310\n",
      "49m 23s (350000 875%) 72.6565\n",
      "50m 5s (355000 887%) 74.4784\n",
      "50m 47s (360000 900%) 69.8218\n",
      "51m 27s (365000 912%) 64.0661\n",
      "52m 7s (370000 925%) 73.5586\n",
      "52m 46s (375000 937%) 75.0513\n",
      "53m 25s (380000 950%) 69.2426\n",
      "54m 4s (385000 962%) 78.5977\n",
      "54m 45s (390000 975%) 40.6822\n",
      "55m 27s (395000 987%) 70.2381\n"
     ]
    }
   ],
   "source": [
    "def running(rnn, optimizer, keywords_dict):\n",
    "    seq_length = keywords_dict['seq_length']\n",
    "\n",
    "    print_every = 5000\n",
    "    plot_every = 500\n",
    "    start = time.time()\n",
    "    \n",
    "    all_losses = []\n",
    "    total_loss = 0 # Reset every plot_every iters\n",
    "\n",
    "    _iter, p = 0, 0\n",
    "    epoch = 0\n",
    "    \n",
    "    loss_fun = nn.NLLLoss()\n",
    "    optimizer = torch.optim.Adam(rnn.parameters(), lr=0.01)\n",
    "\n",
    "    while epoch < 10:\n",
    "        if p + seq_length +1 >= len(data):\n",
    "            epoch +=1\n",
    "            p = 0\n",
    "        # Generate input and target\n",
    "        input_line_tensor, target_line_tensor = createTrainingExample(data[p:p+seq_length+1], keywords_dict)\n",
    "        target_line_tensor.unsqueeze_(-1)\n",
    "        # Initiation\n",
    "        hidden = rnn.initHidden()\n",
    "        rnn.zero_grad()\n",
    "        loss = 0\n",
    "        # Training\n",
    "        for i in range(input_line_tensor.size(0)):\n",
    "            output, hidden = rnn(input_line_tensor[i], hidden)\n",
    "            \n",
    "            l = loss_fun(output, target_line_tensor[i])\n",
    "            loss += l\n",
    "        # Back propagation\n",
    "        optimizer.zero_grad()\n",
    "        loss.backward()\n",
    "        optimizer.step()\n",
    "\n",
    "        p += seq_length # move data pointer\n",
    "        _iter += 1 # iteration counter\n",
    "\n",
    "        total_loss += loss\n",
    "\n",
    "        if _iter % print_every == 0:\n",
    "            print('%s (%d %d%%) %.4f' % (timeSince(start), _iter, _iter / (keywords_dict['data_size']/keywords_dict['seq_length']) * 100, loss))\n",
    "\n",
    "        if _iter % plot_every == 0:\n",
    "            all_losses.append(total_loss / plot_every)\n",
    "            total_loss = 0\n",
    "    return rnn, optimizer, all_losses\n",
    "rnn2 = nn.RNN(input_size=68, \n",
    "              hidden_size=512, \n",
    "              num_layers=3, \n",
    "              nonlinearity='tanh', \n",
    "              dropout=0.05)\n",
    "rnn = RNN(keywords_dict['n_letters'], keywords_dict['hidden_size'], keywords_dict['n_letters'])\n",
    "optimizer = torch.optim.Adam(rnn.parameters(), lr=keywords_dict['learning_rate'])\n",
    "rnn, optimizer, all_losses = running(rnn, optimizer, keywords_dict)"
   ]
  },
  {
   "cell_type": "code",
   "execution_count": 18,
   "metadata": {
    "collapsed": false
   },
   "outputs": [],
   "source": [
    "# rnn, all_losses = running(rnn, keywords_dict)"
   ]
  },
  {
   "cell_type": "code",
   "execution_count": 9,
   "metadata": {
    "collapsed": false
   },
   "outputs": [
    {
     "data": {
      "text/plain": [
       "[<matplotlib.lines.Line2D at 0x11fe7a390>]"
      ]
     },
     "execution_count": 9,
     "metadata": {},
     "output_type": "execute_result"
    },
    {
     "data": {
      "image/png": "[encoded data removed]",
      "text/plain": [
       "<Figure size 600x400 with 1 Axes>"
      ]
     },
     "metadata": {},
     "output_type": "display_data"
    }
   ],
   "source": [
    "import matplotlib.pyplot as plt\n",
    "import matplotlib.ticker as ticker\n",
    "%matplotlib inline\n",
    "plt.figure()\n",
    "plt.plot(all_losses)"
   ]
  },
  {
   "cell_type": "code",
   "execution_count": 10,
   "metadata": {
    "collapsed": false
   },
   "outputs": [
    {
     "name": "stdout",
     "output_type": "stream",
     "text": [
      "adhse i oloztrAcdr rzEz3:M\n"
     ]
    }
   ],
   "source": [
    "import random\n",
    "def generate_letter(dist):\n",
    "        x = random.random()\n",
    "        for c,v in enumerate(dist):\n",
    "            x = x - v\n",
    "            if x <= 0: return c\n",
    "import numpy as np\n",
    "# Sample from a category and starting letter\n",
    "def sample(rnn, keywords_dict, start_letter='a', max_length=25):\n",
    "    with torch.no_grad():  # no need to track history in sampling\n",
    "#         category_tensor = categoryTensor(category)\n",
    "        _input = inputTensor(start_letter, keywords_dict)\n",
    "        hidden = rnn.initHidden()\n",
    "\n",
    "        outputs = start_letter\n",
    "\n",
    "        for i in range(keywords_dict['seq_length']):\n",
    "            output, hidden = rnn(_input[0], hidden)\n",
    "#             topv, topi = output.topk(1)\n",
    "            dist = np.exp(np.array(output)[0])\n",
    "#             print(dist)\n",
    "#             topi = topi[0][0]\n",
    "            letter = keywords_dict['all_letters'][generate_letter(dist)]\n",
    "#             letter = keywords_dict['all_letters'][topi]\n",
    "\n",
    "            outputs += letter\n",
    "            _input = inputTensor(letter, keywords_dict)\n",
    "\n",
    "        return outputs\n",
    "s = sample(rnn, keywords_dict)\n",
    "print(s)"
   ]
  },
  {
   "cell_type": "code",
   "execution_count": 8,
   "metadata": {
    "collapsed": true
   },
   "outputs": [],
   "source": [
    "x = torch.tensor([1, 2, 3, 4])"
   ]
  },
  {
   "cell_type": "code",
   "execution_count": 9,
   "metadata": {
    "collapsed": false
   },
   "outputs": [
    {
     "data": {
      "text/plain": [
       "tensor([[1],\n",
       "        [2],\n",
       "        [3],\n",
       "        [4]])"
      ]
     },
     "execution_count": 9,
     "metadata": {},
     "output_type": "execute_result"
    }
   ],
   "source": [
    "x.unsqueeze_(-1)"
   ]
  },
  {
   "cell_type": "code",
   "execution_count": null,
   "metadata": {
    "collapsed": true
   },
   "outputs": [],
   "source": [
    "nn.RNN()"
   ]
  }
 ],
 "metadata": {
  "anaconda-cloud": {},
  "kernelspec": {
   "display_name": "Python [anaconda3]",
   "language": "python",
   "name": "Python [anaconda3]"
  },
  "language_info": {
   "codemirror_mode": {
    "name": "ipython",
    "version": 3
   },
   "file_extension": ".py",
   "mimetype": "text/x-python",
   "name": "python",
   "nbconvert_exporter": "python",
   "pygments_lexer": "ipython3",
   "version": "3.5.6"
  }
 },
 "nbformat": 4,
 "nbformat_minor": 0
}
