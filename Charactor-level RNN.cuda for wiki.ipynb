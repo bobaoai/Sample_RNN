{
 "cells": [
  {
   "cell_type": "markdown",
   "metadata": {},
   "source": [
    "# Charactor-level RNN for wiki"
   ]
  },
  {
   "cell_type": "markdown",
   "metadata": {},
   "source": [
    "    modified from https://pytorch.org/tutorials/intermediate/char_rnn_generation_tutorial.html"
   ]
  },
  {
   "cell_type": "code",
   "execution_count": 1,
   "metadata": {},
   "outputs": [],
   "source": [
    "from __future__ import unicode_literals, print_function, division\n",
    "from io import open\n",
    "import glob\n",
    "import os\n",
    "import unicodedata\n",
    "import string\n",
    "\n",
    "import time\n",
    "import math\n",
    "\n",
    "import torch\n",
    "import torch.nn as nn\n",
    "\n",
    "# # Plus EOS marker\n",
    "# keywords_dict = {}\n",
    "# keywords_dict['all_letters'] = string.ascii_letters + \" .,;'-\"\n",
    "# keywords_dict['n_letters'] = len(keywords_dict['all_letters']) + 1\n",
    "\n",
    "# def findFiles(path): return glob.glob(path)\n",
    "\n",
    "# # Turn a Unicode string to plain ASCII, thanks to https://stackoverflow.com/a/518232/2809427\n",
    "# def unicodeToAscii(s, keywords_dict):\n",
    "#     return ''.join(\n",
    "#         c for c in unicodedata.normalize('NFD', s)\n",
    "#         if unicodedata.category(c) != 'Mn'\n",
    "#         and c in keywords_dict['all_letters']\n",
    "#     )\n",
    "\n",
    "# # Read a file and split into lines\n",
    "# def readLines(filename, keywords_dict):\n",
    "#     lines = open(filename, encoding='utf-8').read().strip().split('\\n')\n",
    "#     return [unicodeToAscii(line, keywords_dict) for line in lines]\n",
    "\n",
    "# # Build the category_lines dictionary, a list of lines per category\n",
    "# name_list = []\n",
    "# for filename in findFiles('data/names/*.txt'):\n",
    "#     category = os.path.splitext(os.path.basename(filename))[0]\n",
    "#     name_list.extend(readLines(filename, keywords_dict))\n",
    "    \n",
    "# keywords_dict['name_vector'] = name_list"
   ]
  },
  {
   "cell_type": "code",
   "execution_count": 110,
   "metadata": {},
   "outputs": [],
   "source": [
    "# parameter\n",
    "keywords_dict ={}\n",
    "keywords_dict['hidden_size'] = 100\n",
    "keywords_dict['seq_length'] = 25\n",
    "keywords_dict['learning_rate'] = 0.1\n"
   ]
  },
  {
   "cell_type": "code",
   "execution_count": 112,
   "metadata": {},
   "outputs": [
    {
     "name": "stdout",
     "output_type": "stream",
     "text": [
      "data has 1000000 characters, 67 unique.\n"
     ]
    }
   ],
   "source": [
    "data = open('data/shakespeare_input.txt', 'r',encoding='utf-8').read() # should be simple plain text file\n",
    "chars = list(set(data))\n",
    "data = data[:1000000]\n",
    "data_size, vocab_size = len(data), len(chars)\n",
    "print('data has %d characters, %d unique.' % (data_size, vocab_size))\n",
    "keywords_dict['data_size'] = len(data)\n",
    "char_to_ix = { ch:i for i,ch in enumerate(chars) }\n",
    "ix_to_char = { i:ch for i,ch in enumerate(chars) }"
   ]
  },
  {
   "cell_type": "code",
   "execution_count": 114,
   "metadata": {},
   "outputs": [],
   "source": [
    "keywords_dict['all_letters'] = ''.join(sorted(chars))\n",
    "keywords_dict['n_letters'] = len(chars)\n"
   ]
  },
  {
   "cell_type": "code",
   "execution_count": 18,
   "metadata": {},
   "outputs": [],
   "source": [
    "import torch\n",
    "import torch.nn as nn\n",
    "\n",
    "class RNN(nn.Module):\n",
    "    def __init__(self, input_size, hidden_size, output_size):\n",
    "        super().__init__()\n",
    "        self.hidden_size = hidden_size\n",
    "        self.Wxh = nn.Linear(input_size, hidden_size)\n",
    "        self.Whh = nn.Linear(hidden_size, hidden_size)\n",
    "        self.Why = nn.Linear(hidden_size, output_size)\n",
    "        self.act = nn.Tanh()\n",
    "        self.dropout = nn.Dropout(0.1)\n",
    "        self.softmax = nn.LogSoftmax(dim=1)\n",
    "\n",
    "    def forward(self, _input, hidden):\n",
    "        # np.tanh(np.dot(Wxh, xs[t]) + np.dot(Whh, hs[t-1]) + bh)\n",
    "        hidden = self.Wxh(_input).add(self.Whh(hidden))\n",
    "        hidden = self.act(hidden)\n",
    "        \n",
    "        output = self.Why(hidden)\n",
    "        \n",
    "        # output\n",
    "        output = self.dropout(output)\n",
    "        output = self.softmax(output)\n",
    "        return output, hidden\n",
    "\n",
    "    def initHidden(self):\n",
    "        return torch.zeros(1, self.hidden_size)"
   ]
  },
  {
   "cell_type": "code",
   "execution_count": 66,
   "metadata": {},
   "outputs": [],
   "source": [
    "import random\n",
    "\n",
    "# Random item from a list\n",
    "# def randomChoice(l):\n",
    "#     _a = l[random.randint(0, len(l) - 1)]\n",
    "#     print(_a)\n",
    "#     return _a"
   ]
  },
  {
   "cell_type": "code",
   "execution_count": 5,
   "metadata": {},
   "outputs": [],
   "source": [
    "# One-hot matrix of first to last letters (not including EOS) for input\n",
    "def inputTensor(line, keywords_dict):\n",
    "    all_letters = keywords_dict['all_letters']\n",
    "    n_letters = keywords_dict['n_letters']\n",
    "    tensor = torch.zeros(len(line), 1, n_letters)\n",
    "    for li in range(len(line)):\n",
    "        letter = line[li]\n",
    "#         print(letter)\n",
    "        tensor[li][0][all_letters.find(letter)] = 1\n",
    "    return tensor\n",
    "\n",
    "# LongTensor of second letter to end (EOS) for target\n",
    "def targetTensor(line, keywords_dict):\n",
    "    all_letters = keywords_dict['all_letters']\n",
    "    n_letters = keywords_dict['n_letters']\n",
    "    letter_indexes = [all_letters.find(line[li]) for li in range(1, len(line))]\n",
    "    letter_indexes.append(n_letters - 1) # EOS\n",
    "    return torch.LongTensor(letter_indexes)\n",
    "\n",
    "def createTrainingExample(line, keywords_dict):\n",
    "#     category, line = randomTrainingPair()\n",
    "#     line = randomChoice(keywords_dict['name_vector'])\n",
    "#     category_tensor = categoryTensor(category)\n",
    "    input_line_tensor = inputTensor(line[:-1], keywords_dict)\n",
    "#     print(input_line_tensor)\n",
    "    target_line_tensor = targetTensor(line[1:], keywords_dict)\n",
    "#     print(target_line_tensor)\n",
    "\n",
    "#     return category_tensor, input_line_tensor, target_line_tensor\n",
    "    return input_line_tensor, target_line_tensor"
   ]
  },
  {
   "cell_type": "code",
   "execution_count": 6,
   "metadata": {},
   "outputs": [],
   "source": [
    "# # keywords_dict['learning_rate'] = 0.005\n",
    "\n",
    "# def train(rnn, keywords_dict):\n",
    "#     n, p = 0, 0\n",
    "#     while p + seq_length +1 <= len(data):\n",
    "#         input_line_tensor, target_line_tensor = createTrainingExample(data[p:p+seq_length+1], keywords_dict)\n",
    "#         print(input_line_tensor)\n",
    "#         learning_rate = keywords_dict['learning_rate']\n",
    "        \n",
    "#         target_line_tensor.unsqueeze_(-1)\n",
    "#         hidden = rnn.initHidden()\n",
    "#         rnn.zero_grad()\n",
    "#         criterion = nn.NLLLoss()\n",
    "\n",
    "#         loss = 0\n",
    "\n",
    "#         for i in range(input_line_tensor.size(0)):\n",
    "#     #         output, hidden = rnn(category_tensor, input_line_tensor[i], hidden)\n",
    "#             output, hidden = rnn(input_line_tensor[i], hidden)\n",
    "\n",
    "#             l = criterion(output, target_line_tensor[i])\n",
    "# #             print(l)\n",
    "#             loss += l\n",
    "\n",
    "#         loss.backward()\n",
    "\n",
    "#         for p in rnn.parameters():\n",
    "# #             print('Waha')\n",
    "# #             print(p)\n",
    "#             p.data.add_(-learning_rate, p.grad.data)\n",
    "#         if n % 100 == 0:\n",
    "#             print(n)\n",
    "#         p += seq_length # move data pointer\n",
    "#         n += 1 # iteration counter\n",
    "#         exit()\n",
    "#     return output, loss.item() / input_line_tensor.size(0)\n",
    "\n",
    "\n",
    "def timeSince(since):\n",
    "    now = time.time()\n",
    "    s = now - since\n",
    "    m = math.floor(s / 60)\n",
    "    s -= m * 60\n",
    "    return '%dm %ds' % (m, s)"
   ]
  },
  {
   "cell_type": "code",
   "execution_count": 7,
   "metadata": {},
   "outputs": [
    {
     "name": "stdout",
     "output_type": "stream",
     "text": [
      "cuda:0\n"
     ]
    }
   ],
   "source": [
    "device = torch.device(\"cuda:0\" if torch.cuda.is_available() else \"cpu\")\n",
    "print(device)"
   ]
  },
  {
   "cell_type": "code",
   "execution_count": 19,
   "metadata": {
    "scrolled": true
   },
   "outputs": [
    {
     "name": "stdout",
     "output_type": "stream",
     "text": [
      "torch.Size([1, 62])\n",
      "torch.Size([1, 62])\n",
      "torch.Size([1, 62])\n",
      "torch.Size([1, 62])\n",
      "torch.Size([1, 62])\n",
      "torch.Size([1, 62])\n",
      "torch.Size([1, 62])\n",
      "torch.Size([1, 62])\n",
      "torch.Size([1, 62])\n",
      "torch.Size([1, 62])\n",
      "torch.Size([1, 62])\n",
      "torch.Size([1, 62])\n",
      "torch.Size([1, 62])\n",
      "torch.Size([1, 62])\n",
      "torch.Size([1, 62])\n",
      "torch.Size([1, 62])\n",
      "torch.Size([1, 62])\n",
      "torch.Size([1, 62])\n",
      "torch.Size([1, 62])\n",
      "torch.Size([1, 62])\n",
      "torch.Size([1, 62])\n",
      "torch.Size([1, 62])\n",
      "torch.Size([1, 62])\n",
      "torch.Size([1, 62])\n",
      "torch.Size([1, 62])\n"
     ]
    }
   ],
   "source": [
    "def running(rnn, keywords_dict):\n",
    "    seq_length = keywords_dict['seq_length']\n",
    "    rnn.to(device)\n",
    "    optimizer = torch.optim.Adam(rnn.parameters(), lr=0.001)\n",
    "#     n_iters = 10\n",
    "    print_every = 5000\n",
    "    plot_every = 500\n",
    "    all_losses = []\n",
    "    total_loss = 0 # Reset every plot_every iters\n",
    "\n",
    "    start = time.time()\n",
    "    criterion = nn.NLLLoss().to(device)\n",
    "    \n",
    "    _iter, p = 0, 0\n",
    "    while p + seq_length +1 <= len(data):\n",
    "        input_line_tensor, target_line_tensor = createTrainingExample(data[p:p+seq_length+1], keywords_dict)\n",
    "        target_line_tensor.unsqueeze_(-1)\n",
    "        \n",
    "        hidden = rnn.initHidden()\n",
    "        loss = 0\n",
    "#         loss.to(device)\n",
    "    \n",
    "        for i in range(input_line_tensor.size(0)):\n",
    "            output, hidden = rnn(input_line_tensor[i].to(device), hidden.to(device))\n",
    "            print(output.size())\n",
    "            l = criterion(output, target_line_tensor[i].to(device)).to(device)\n",
    "            if loss==0:\n",
    "                loss = l\n",
    "            else:\n",
    "                loss += l\n",
    "        break\n",
    "        optimizer.zero_grad()\n",
    "        loss.backward()\n",
    "        optimizer.step()\n",
    "\n",
    "        p += seq_length # move data pointer\n",
    "        _iter += 1 # iteration counter\n",
    "\n",
    "        total_loss += loss\n",
    "\n",
    "        if _iter % print_every == 0:\n",
    "            print('%s (%d %d%%) %.4f' % (timeSince(start), _iter, _iter / (1000000/25) * 100, loss))\n",
    "\n",
    "        if _iter % plot_every == 0:\n",
    "            all_losses.append(total_loss / plot_every)\n",
    "            total_loss = 0\n",
    "    return rnn, all_losses\n",
    "n_letters = keywords_dict['n_letters']\n",
    "\n",
    "rnn = RNN(n_letters, 128, n_letters)\n",
    "rnn.to(device)\n",
    "rnn, all_losses = running(rnn, keywords_dict)"
   ]
  },
  {
   "cell_type": "code",
   "execution_count": 40,
   "metadata": {},
   "outputs": [
    {
     "data": {
      "text/plain": [
       "[<matplotlib.lines.Line2D at 0x261b635c6d8>]"
      ]
     },
     "execution_count": 40,
     "metadata": {},
     "output_type": "execute_result"
    },
    {
     "data": {
      "image/png": "[encoded data removed]",
      "text/plain": [
       "<matplotlib.figure.Figure at 0x261d9098278>"
      ]
     },
     "metadata": {
      "needs_background": "light"
     },
     "output_type": "display_data"
    }
   ],
   "source": [
    "import matplotlib.pyplot as plt\n",
    "import matplotlib.ticker as ticker\n",
    "% matplotlib inline\n",
    "plt.figure()\n",
    "plt.plot(all_losses)"
   ]
  },
  {
   "cell_type": "code",
   "execution_count": 31,
   "metadata": {},
   "outputs": [
    {
     "ename": "UnboundLocalError",
     "evalue": "local variable 'hidden' referenced before assignment",
     "output_type": "error",
     "traceback": [
      "\u001b[1;31m---------------------------------------------------------------------------\u001b[0m",
      "\u001b[1;31mUnboundLocalError\u001b[0m                         Traceback (most recent call last)",
      "\u001b[1;32m<ipython-input-31-ffefff5c8bdb>\u001b[0m in \u001b[0;36m<module>\u001b[1;34m()\u001b[0m\n\u001b[0;32m     19\u001b[0m \u001b[1;33m\u001b[0m\u001b[0m\n\u001b[0;32m     20\u001b[0m         \u001b[1;32mreturn\u001b[0m \u001b[0moutput_name\u001b[0m\u001b[1;33m\u001b[0m\u001b[0m\n\u001b[1;32m---> 21\u001b[1;33m \u001b[0msample\u001b[0m\u001b[1;33m(\u001b[0m\u001b[0mkeywords_dict\u001b[0m\u001b[1;33m)\u001b[0m\u001b[1;33m\u001b[0m\u001b[0m\n\u001b[0m",
      "\u001b[1;32m<ipython-input-31-ffefff5c8bdb>\u001b[0m in \u001b[0;36msample\u001b[1;34m(keywords_dict, start_letter)\u001b[0m\n\u001b[0;32m     11\u001b[0m \u001b[1;33m\u001b[0m\u001b[0m\n\u001b[0;32m     12\u001b[0m         \u001b[1;32mfor\u001b[0m \u001b[0mi\u001b[0m \u001b[1;32min\u001b[0m \u001b[0mrange\u001b[0m\u001b[1;33m(\u001b[0m\u001b[0mmax_length\u001b[0m\u001b[1;33m)\u001b[0m\u001b[1;33m:\u001b[0m\u001b[1;33m\u001b[0m\u001b[0m\n\u001b[1;32m---> 13\u001b[1;33m             \u001b[0moutput\u001b[0m\u001b[1;33m,\u001b[0m \u001b[0mhidden\u001b[0m \u001b[1;33m=\u001b[0m \u001b[0mrnn\u001b[0m\u001b[1;33m(\u001b[0m\u001b[0m_input\u001b[0m\u001b[1;33m[\u001b[0m\u001b[1;36m0\u001b[0m\u001b[1;33m]\u001b[0m\u001b[1;33m.\u001b[0m\u001b[0mto\u001b[0m\u001b[1;33m(\u001b[0m\u001b[0mdevice\u001b[0m\u001b[1;33m)\u001b[0m\u001b[1;33m,\u001b[0m \u001b[0mhidden\u001b[0m\u001b[1;33m.\u001b[0m\u001b[0mto\u001b[0m\u001b[1;33m(\u001b[0m\u001b[0mdevice\u001b[0m\u001b[1;33m)\u001b[0m\u001b[1;33m)\u001b[0m\u001b[1;33m\u001b[0m\u001b[0m\n\u001b[0m\u001b[0;32m     14\u001b[0m             \u001b[0mtopv\u001b[0m\u001b[1;33m,\u001b[0m \u001b[0mtopi\u001b[0m \u001b[1;33m=\u001b[0m \u001b[0moutput\u001b[0m\u001b[1;33m.\u001b[0m\u001b[0mtopk\u001b[0m\u001b[1;33m(\u001b[0m\u001b[1;36m1\u001b[0m\u001b[1;33m)\u001b[0m\u001b[1;33m\u001b[0m\u001b[0m\n\u001b[0;32m     15\u001b[0m             \u001b[0mtopi\u001b[0m \u001b[1;33m=\u001b[0m \u001b[0mtopi\u001b[0m\u001b[1;33m[\u001b[0m\u001b[1;36m0\u001b[0m\u001b[1;33m]\u001b[0m\u001b[1;33m[\u001b[0m\u001b[1;36m0\u001b[0m\u001b[1;33m]\u001b[0m\u001b[1;33m\u001b[0m\u001b[0m\n",
      "\u001b[1;31mUnboundLocalError\u001b[0m: local variable 'hidden' referenced before assignment"
     ]
    }
   ],
   "source": [
    "max_length = 100\n",
    "\n",
    "# Sample from a category and starting letter\n",
    "def sample(keywords_dict, start_letter='W'):\n",
    "    with torch.no_grad():  # no need to track history in sampling\n",
    "#         category_tensor = categoryTensor(category)\n",
    "        _input = inputTensor(start_letter, keywords_dict)\n",
    "        hidden = rnn.initHidden()\n",
    "\n",
    "        output_name = start_letter\n",
    "\n",
    "        for i in range(max_length):\n",
    "            output, hidden = rnn(_input[0].to(device), hidden.to(device))\n",
    "            topv, topi = output.topk(1)\n",
    "            topi = topi[0][0]\n",
    "            letter = keywords_dict['all_letters'][topi]\n",
    "            output_name += letter\n",
    "            _input = inputTensor(letter, keywords_dict)\n",
    "\n",
    "        return output_name\n",
    "sample(keywords_dict)"
   ]
  },
  {
   "cell_type": "code",
   "execution_count": 75,
   "metadata": {},
   "outputs": [
    {
     "data": {
      "text/plain": [
       "torch.nn.modules.rnn.RNN"
      ]
     },
     "execution_count": 75,
     "metadata": {},
     "output_type": "execute_result"
    }
   ],
   "source": []
  },
  {
   "cell_type": "code",
   "execution_count": 29,
   "metadata": {},
   "outputs": [
    {
     "ename": "NameError",
     "evalue": "name 'start_letter' is not defined",
     "output_type": "error",
     "traceback": [
      "\u001b[1;31m---------------------------------------------------------------------------\u001b[0m",
      "\u001b[1;31mNameError\u001b[0m                                 Traceback (most recent call last)",
      "\u001b[1;32m<ipython-input-29-e288530947cb>\u001b[0m in \u001b[0;36m<module>\u001b[1;34m()\u001b[0m\n\u001b[0;32m      1\u001b[0m \u001b[1;32mwith\u001b[0m \u001b[0mtorch\u001b[0m\u001b[1;33m.\u001b[0m\u001b[0mno_grad\u001b[0m\u001b[1;33m(\u001b[0m\u001b[1;33m)\u001b[0m\u001b[1;33m:\u001b[0m  \u001b[1;31m# no need to track history in sampling\u001b[0m\u001b[1;33m\u001b[0m\u001b[0m\n\u001b[0;32m      2\u001b[0m \u001b[1;31m#         category_tensor = categoryTensor(category)\u001b[0m\u001b[1;33m\u001b[0m\u001b[1;33m\u001b[0m\u001b[0m\n\u001b[1;32m----> 3\u001b[1;33m         \u001b[0m_input\u001b[0m \u001b[1;33m=\u001b[0m \u001b[0minputTensor\u001b[0m\u001b[1;33m(\u001b[0m\u001b[0mstart_letter\u001b[0m\u001b[1;33m,\u001b[0m \u001b[0mkeywords_dict\u001b[0m\u001b[1;33m)\u001b[0m\u001b[1;33m\u001b[0m\u001b[0m\n\u001b[0m\u001b[0;32m      4\u001b[0m         \u001b[0mhidden\u001b[0m \u001b[1;33m=\u001b[0m \u001b[0mrnn\u001b[0m\u001b[1;33m.\u001b[0m\u001b[0minitHidden\u001b[0m\u001b[1;33m(\u001b[0m\u001b[1;33m)\u001b[0m\u001b[1;33m\u001b[0m\u001b[0m\n\u001b[0;32m      5\u001b[0m \u001b[1;33m\u001b[0m\u001b[0m\n",
      "\u001b[1;31mNameError\u001b[0m: name 'start_letter' is not defined"
     ]
    }
   ],
   "source": [
    "with torch.no_grad():  # no need to track history in sampling\n",
    "#         category_tensor = categoryTensor(category)\n",
    "        _input = inputTensor(start_letter, keywords_dict)\n",
    "        hidden = rnn.initHidden()\n",
    "\n",
    "        output_name = start_letter\n",
    "\n",
    "        for i in range(25):\n",
    "            output, hidden = rnn(_input[0].to(device), hidden.to(device))\n",
    "            topv, topi = output.topk(1)\n",
    "            topi = topi[0][0]\n",
    "            letter = keywords_dict['all_letters'][topi]\n",
    "            output_name += letter\n",
    "            _input = inputTensor(letter, keywords_dict)"
   ]
  },
  {
   "cell_type": "code",
   "execution_count": 62,
   "metadata": {},
   "outputs": [
    {
     "data": {
      "text/plain": [
       "1.0000001"
      ]
     },
     "execution_count": 62,
     "metadata": {},
     "output_type": "execute_result"
    }
   ],
   "source": [
    "import numpy as np\n",
    "\n",
    "np.sum(np.exp(np.array(output)[0]))"
   ]
  },
  {
   "cell_type": "code",
   "execution_count": 8,
   "metadata": {
    "collapsed": true
   },
   "outputs": [],
   "source": [
    "x = torch.tensor([1, 2, 3, 4])"
   ]
  },
  {
   "cell_type": "code",
   "execution_count": 9,
   "metadata": {},
   "outputs": [
    {
     "data": {
      "text/plain": [
       "tensor([[1],\n",
       "        [2],\n",
       "        [3],\n",
       "        [4]])"
      ]
     },
     "execution_count": 9,
     "metadata": {},
     "output_type": "execute_result"
    }
   ],
   "source": [
    "x.unsqueeze_(-1)"
   ]
  },
  {
   "cell_type": "code",
   "execution_count": 174,
   "metadata": {},
   "outputs": [],
   "source": [
    "class RNN3(nn.Module):\n",
    "    def __init__(self, input_size, hidden_size, output_size, n_layers):\n",
    "        super().__init__()\n",
    "        self.hidden_size = hidden_size\n",
    "        self.n_layers = n_layers\n",
    "        self.rnn = nn.RNN(input_size, hidden_size, n_layers, dropout=0.1)\n",
    "        self.fc = nn.Linear(hidden_size, output_size)\n",
    "        self.softmax = nn.LogSoftmax(dim=2)\n",
    "\n",
    "    def forward(self, input):\n",
    "        hidden = self.initHidden(input.size(1))\n",
    "        return_ = []\n",
    "        for i in range(input.size(0)):\n",
    "            _input = input[i:i+1]\n",
    "            output, hidden = self.rnn(_input, hidden)\n",
    "            output = self.fc(output)\n",
    "            output = self.softmax(output)\n",
    "            return_.append(output)\n",
    "        return return_\n",
    "    \n",
    "    def prediction(self, input, hidden):\n",
    "        output, hidden = self.rnn(input, hidden)\n",
    "        output = self.fc(output)\n",
    "        output = self.softmax(output)\n",
    "        return output, hidden\n",
    "    def initHidden(self, batch_size):\n",
    "        return torch.zeros(self.n_layers, batch_size, self.hidden_size).cuda()"
   ]
  },
  {
   "cell_type": "code",
   "execution_count": 176,
   "metadata": {},
   "outputs": [
    {
     "data": {
      "text/plain": [
       "(tensor([[[-4.2523, -4.1594, -4.1699, -4.2205, -4.2009, -4.2164, -4.2171,\n",
       "           -4.2176, -4.2197, -4.2371, -4.2394, -4.1524, -4.1625, -4.1826,\n",
       "           -4.2385, -4.2265, -4.1625, -4.1945, -4.2177, -4.1837, -4.2111,\n",
       "           -4.1731, -4.2336, -4.1715, -4.1978, -4.1579, -4.2368, -4.2543,\n",
       "           -4.2361, -4.2385, -4.1179, -4.2428, -4.1598, -4.2166, -4.1801,\n",
       "           -4.2521, -4.2979, -4.2284, -4.1959, -4.2158, -4.1834, -4.1235,\n",
       "           -4.1715, -4.1693, -4.1514, -4.2164, -4.1780, -4.1881, -4.1893,\n",
       "           -4.2664, -4.2511, -4.1677, -4.2127, -4.2389, -4.1562, -4.1671,\n",
       "           -4.1913, -4.2419, -4.2399, -4.1979, -4.2247, -4.1891, -4.2262,\n",
       "           -4.2075, -4.2412, -4.2447, -4.2329]]], device='cuda:0'),\n",
       " tensor([[[-2.3057e-02, -2.3564e-02, -4.2954e-02,  ...,  1.4749e-02,\n",
       "            8.8703e-02, -7.4408e-02]],\n",
       " \n",
       "         [[-5.7274e-02, -6.1016e-02,  9.3120e-03,  ..., -1.4885e-03,\n",
       "           -4.8879e-02, -1.0134e-02]],\n",
       " \n",
       "         [[ 6.3342e-02,  1.7465e-02, -3.2752e-02,  ..., -5.2881e-02,\n",
       "           -7.6457e-02, -3.9089e-02]]], device='cuda:0'))"
      ]
     },
     "execution_count": 176,
     "metadata": {},
     "output_type": "execute_result"
    }
   ],
   "source": [
    "from  torch import autograd \n",
    "\n",
    "input_line_tensor, target_line_tensor = createTrainingExample(data[0:26], keywords_dict)\n",
    "rnn_ = RNN3(keywords_dict['n_letters'], 512, keywords_dict['n_letters'], 3)\n",
    "if torch.cuda.is_available:\n",
    "    rnn_.cuda()\n",
    "# _ = input_line_tensor.long()\n",
    "output = rnn_(input_line_tensor.cuda())\n",
    "# output = rnn_(input_line_tensor.cuda())\n",
    "# # input_line_tensor[0:1]\n",
    "rnn_.prediction(input_line_tensor[0:1].cuda(), rnn_.initHidden(1))"
   ]
  },
  {
   "cell_type": "code",
   "execution_count": 183,
   "metadata": {},
   "outputs": [
    {
     "name": "stdout",
     "output_type": "stream",
     "text": [
      "0m 40s (500 1%) 77.6373\n",
      "1m 20s (1000 2%) 84.1484\n",
      "2m 1s (1500 3%) 86.6846\n",
      "2m 41s (2000 5%) 121.4769\n",
      "3m 21s (2500 6%) 88.7474\n",
      "4m 2s (3000 7%) 75.2751\n",
      "4m 42s (3500 8%) 92.3100\n",
      "5m 23s (4000 10%) 85.6432\n",
      "6m 3s (4500 11%) 79.6013\n",
      "6m 44s (5000 12%) 74.3576\n",
      "7m 24s (5500 13%) 87.5127\n",
      "8m 4s (6000 15%) 76.2123\n",
      "8m 45s (6500 16%) 90.3462\n",
      "9m 25s (7000 17%) 79.5136\n",
      "10m 6s (7500 18%) 92.2264\n",
      "10m 47s (8000 20%) 97.5097\n",
      "11m 28s (8500 21%) 86.2393\n",
      "12m 9s (9000 22%) 82.4376\n",
      "12m 50s (9500 23%) 102.5323\n",
      "13m 33s (10000 25%) 84.1528\n",
      "14m 16s (10500 26%) 101.1602\n",
      "14m 58s (11000 27%) 80.3856\n",
      "15m 39s (11500 28%) 93.1155\n",
      "16m 23s (12000 30%) 91.7584\n",
      "17m 3s (12500 31%) 87.9460\n",
      "17m 44s (13000 32%) 78.6555\n",
      "18m 24s (13500 33%) 85.0535\n",
      "19m 4s (14000 35%) 81.6005\n",
      "19m 45s (14500 36%) 78.9428\n",
      "20m 25s (15000 37%) 84.9486\n",
      "21m 6s (15500 38%) 82.1121\n",
      "21m 46s (16000 40%) 82.4816\n",
      "22m 26s (16500 41%) 120.9892\n",
      "23m 7s (17000 42%) 92.3614\n",
      "23m 47s (17500 43%) 86.7239\n",
      "24m 27s (18000 45%) 92.6668\n",
      "25m 8s (18500 46%) 82.6646\n",
      "25m 48s (19000 47%) 90.6038\n",
      "26m 28s (19500 48%) 83.0181\n",
      "27m 9s (20000 50%) 81.9022\n",
      "27m 49s (20500 51%) 89.2414\n",
      "28m 29s (21000 52%) 83.6284\n",
      "29m 10s (21500 53%) 84.0809\n",
      "29m 50s (22000 55%) 79.2025\n",
      "30m 31s (22500 56%) 79.4038\n",
      "31m 12s (23000 57%) 88.9420\n",
      "31m 53s (23500 58%) 137.6964\n",
      "32m 33s (24000 60%) 81.0523\n",
      "33m 14s (24500 61%) 85.1214\n",
      "33m 54s (25000 62%) 78.1418\n",
      "34m 35s (25500 63%) 80.4823\n",
      "35m 15s (26000 65%) 79.6569\n",
      "35m 56s (26500 66%) 84.4910\n",
      "36m 36s (27000 67%) 90.8955\n",
      "37m 17s (27500 68%) 84.3341\n",
      "37m 57s (28000 70%) 82.6783\n",
      "38m 38s (28500 71%) 101.6387\n",
      "39m 18s (29000 72%) 81.8188\n",
      "39m 59s (29500 73%) 87.8913\n",
      "40m 39s (30000 75%) 99.0213\n",
      "41m 20s (30500 76%) 85.1102\n",
      "42m 1s (31000 77%) 77.0870\n",
      "42m 41s (31500 78%) 81.2588\n",
      "43m 21s (32000 80%) 125.7258\n",
      "44m 2s (32500 81%) 87.7070\n",
      "44m 42s (33000 82%) 92.9841\n",
      "45m 22s (33500 83%) 77.9342\n",
      "46m 3s (34000 85%) 94.2421\n",
      "46m 43s (34500 86%) 82.7241\n",
      "47m 23s (35000 87%) 76.5304\n",
      "48m 4s (35500 88%) 78.7469\n",
      "48m 44s (36000 90%) 86.5721\n",
      "49m 24s (36500 91%) 80.0519\n",
      "50m 5s (37000 92%) 80.9092\n",
      "50m 45s (37500 93%) 78.0768\n",
      "51m 25s (38000 95%) 83.8417\n",
      "52m 5s (38500 96%) 74.2389\n",
      "52m 46s (39000 97%) 73.7285\n",
      "53m 26s (39500 98%) 75.7250\n"
     ]
    }
   ],
   "source": [
    "def running(keywords_dict):\n",
    "    n_letters = keywords_dict['n_letters']\n",
    "    rnn =  RNN3(n_letters, 512, n_letters, 3)\n",
    "    rnn.to(device)    \n",
    "\n",
    "\n",
    "    seq_length = keywords_dict['seq_length']\n",
    "    optimizer = torch.optim.Adam(rnn.parameters(), lr=0.001)\n",
    "#     n_iters = 10\n",
    "    print_every = 5000\n",
    "    plot_every = 500\n",
    "    all_losses = []\n",
    "    total_loss = 0 # Reset every plot_every iters\n",
    "\n",
    "    start = time.time()\n",
    "    criterion = nn.NLLLoss().to(device)\n",
    "    \n",
    "    _iter, p = 0, 0\n",
    "    while p + seq_length +1 <= keywords_dict['data_size']:\n",
    "        input_line_tensor, target_line_tensor = createTrainingExample(data[p:p+seq_length+1], keywords_dict)\n",
    "#         print(input_line_tensor.size())\n",
    "        target_line_tensor.unsqueeze_(-1)\n",
    "\n",
    "        input_line_tensor = input_line_tensor.cuda()\n",
    "        output = rnn(input_line_tensor)\n",
    "#         print(output)\n",
    "        loss = 0\n",
    "        for i in range(input_line_tensor.size(0)):\n",
    "            l = criterion(output[i][0], target_line_tensor[i].to(device))\n",
    "#             print(l)\n",
    "            if loss==0:\n",
    "                loss = l\n",
    "            else:\n",
    "                loss += l\n",
    "        optimizer.zero_grad()\n",
    "        loss.backward()\n",
    "        optimizer.step()\n",
    "        p += seq_length # move data pointer\n",
    "        _iter += 1 # iteration counter\n",
    "\n",
    "        total_loss += loss\n",
    "\n",
    "        if _iter % plot_every == 0:\n",
    "            print('%s (%d %d%%) %.4f' % (timeSince(start), _iter, _iter / (keywords_dict['data_size']/keywords_dict['seq_length']) * 100, loss))\n",
    "\n",
    "        if _iter % plot_every == 0:\n",
    "            all_losses.append(total_loss / plot_every)\n",
    "            total_loss = 0\n",
    "    return rnn, all_losses\n",
    "n_letters = keywords_dict['n_letters']\n",
    "\n",
    "# rnn = nn.RNN(input_size=n_letters, hidden_size=512, num_layers=3, nonlinearity='tanh')\n",
    "# rnn.to(device)\n",
    "rnn, all_losses = running( keywords_dict)"
   ]
  },
  {
   "cell_type": "code",
   "execution_count": 192,
   "metadata": {},
   "outputs": [],
   "source": [
    "max_length = 5\n",
    "\n",
    "# Sample from a category and starting letter\n",
    "# def sample(keywords_dict, start_letter='A'):\n",
    "with torch.no_grad():  # no need to track history in sampling\n",
    "#         category_tensor = categoryTensor(category)\n",
    "    start_letter='C'\n",
    "    _input = inputTensor(start_letter, keywords_dict)\n",
    "#         _input.to(device)\n",
    "    hidden = rnn.initHidden(1)\n",
    "    output_name = start_letter\n",
    "\n",
    "    for i in range(max_length):\n",
    "        output, hidden = rnn.prediction(_input.to(device), hidden.to(device))\n",
    "        topv, topi = output[0][0].topk(1)\n",
    "        topi = topi[0]\n",
    "        letter = keywords_dict['all_letters'][topi]\n",
    "        output_name += letter\n",
    "        _input = inputTensor(letter, keywords_dict)\n",
    "        _input.to(device)\n",
    "#     return output_name\n",
    "# sample(keywords_dict)"
   ]
  },
  {
   "cell_type": "code",
   "execution_count": 189,
   "metadata": {},
   "outputs": [],
   "source": [
    "        topv, topi = output[0][0].topk(1)\n",
    "#         topi = topi[0]"
   ]
  },
  {
   "cell_type": "code",
   "execution_count": 190,
   "metadata": {},
   "outputs": [
    {
     "data": {
      "text/plain": [
       "' '"
      ]
     },
     "execution_count": 190,
     "metadata": {},
     "output_type": "execute_result"
    }
   ],
   "source": [
    "keywords_dict['all_letters'][topi]"
   ]
  },
  {
   "cell_type": "code",
   "execution_count": 191,
   "metadata": {},
   "outputs": [
    {
     "data": {
      "text/plain": [
       "'BOE\\n\\n '"
      ]
     },
     "execution_count": 191,
     "metadata": {},
     "output_type": "execute_result"
    }
   ],
   "source": [
    "output_name"
   ]
  },
  {
   "cell_type": "code",
   "execution_count": null,
   "metadata": {},
   "outputs": [],
   "source": []
  }
 ],
 "metadata": {
  "kernelspec": {
   "display_name": "Python 3",
   "language": "python",
   "name": "python3"
  },
  "language_info": {
   "codemirror_mode": {
    "name": "ipython",
    "version": 3
   },
   "file_extension": ".py",
   "mimetype": "text/x-python",
   "name": "python",
   "nbconvert_exporter": "python",
   "pygments_lexer": "ipython3",
   "version": "3.6.4"
  }
 },
 "nbformat": 4,
 "nbformat_minor": 1
}
