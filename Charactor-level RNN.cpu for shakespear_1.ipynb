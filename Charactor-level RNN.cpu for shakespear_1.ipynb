{
 "cells": [
  {
   "cell_type": "markdown",
   "metadata": {},
   "source": [
    "# Charactor-level RNN.cpu for shakespear_1"
   ]
  },
  {
   "cell_type": "markdown",
   "metadata": {},
   "source": [
    "    modified from https://pytorch.org/tutorials/intermediate/char_rnn_generation_tutorial.html"
   ]
  },
  {
   "cell_type": "code",
   "execution_count": 1,
   "metadata": {
    "collapsed": true
   },
   "outputs": [],
   "source": [
    "from __future__ import unicode_literals, print_function, division\n",
    "from io import open\n",
    "import glob\n",
    "import os\n",
    "import unicodedata\n",
    "import string\n",
    "\n",
    "import time\n",
    "import math\n"
   ]
  },
  {
   "cell_type": "code",
   "execution_count": 25,
   "metadata": {},
   "outputs": [
    {
     "name": "stdout",
     "output_type": "stream",
     "text": [
      "data has 1000000 characters, 65 unique.\n"
     ]
    }
   ],
   "source": [
    "# parameter\n",
    "keywords_dict ={}\n",
    "keywords_dict['hidden_size'] = 100\n",
    "keywords_dict['seq_length'] = 25\n",
    "keywords_dict['learning_rate'] = 0.001\n",
    "data = open('data/shakespeare_input.txt', 'r').read() # should be simple plain text file\n",
    "data = data[:1000000]\n",
    "chars = list(set(data))\n",
    "data_size, vocab_size = len(data), len(chars)\n",
    "print('data has %d characters, %d unique.' % (data_size, vocab_size))\n",
    "char_to_ix = { ch:i for i,ch in enumerate(chars) }\n",
    "ix_to_char = { i:ch for i,ch in enumerate(chars) }\n",
    "keywords_dict['all_letters'] = ''.join(sorted(chars))\n",
    "keywords_dict['n_letters'] = len(chars)\n",
    "keywords_dict['data_size'] = data_size"
   ]
  },
  {
   "cell_type": "code",
   "execution_count": 26,
   "metadata": {
    "collapsed": true
   },
   "outputs": [],
   "source": [
    "import torch\n",
    "import torch.nn as nn\n",
    "\n",
    "class RNN(nn.Module):\n",
    "    def __init__(self, input_size, hidden_size, output_size):\n",
    "        super().__init__()\n",
    "        self.hidden_size = hidden_size\n",
    "        self.Wxh = nn.Linear(input_size, hidden_size)\n",
    "        self.Whh = nn.Linear(hidden_size, hidden_size)\n",
    "        self.Why = nn.Linear(hidden_size, output_size)\n",
    "        self.act = nn.Tanh()\n",
    "        self.dropout = nn.Dropout(0.1)\n",
    "        self.softmax = nn.LogSoftmax(dim=1)\n",
    "\n",
    "    def forward(self, _input, hidden):\n",
    "        # np.tanh(np.dot(Wxh, xs[t]) + np.dot(Whh, hs[t-1]) + bh)\n",
    "        hidden = self.Wxh(_input).add(self.Whh(hidden))\n",
    "        hidden = self.act(hidden)\n",
    "        \n",
    "        output = self.Why(hidden)\n",
    "        \n",
    "        # output\n",
    "#         output = self.dropout(output)\n",
    "        output = self.softmax(output)\n",
    "        return output, hidden\n",
    "\n",
    "    def initHidden(self):\n",
    "        return torch.zeros(1, self.hidden_size)"
   ]
  },
  {
   "cell_type": "code",
   "execution_count": 27,
   "metadata": {
    "collapsed": true
   },
   "outputs": [],
   "source": [
    "def timeSince(since):\n",
    "    now = time.time()\n",
    "    s = now - since\n",
    "    m = math.floor(s / 60)\n",
    "    s -= m * 60\n",
    "    return '%dm %ds' % (m, s)"
   ]
  },
  {
   "cell_type": "code",
   "execution_count": 28,
   "metadata": {
    "collapsed": true
   },
   "outputs": [],
   "source": [
    "# One-hot matrix of first to last letters (not including EOS) for input\n",
    "def inputTensor(line, keywords_dict):\n",
    "    all_letters = keywords_dict['all_letters']\n",
    "    n_letters = keywords_dict['n_letters']\n",
    "    tensor = torch.zeros(len(line), 1, n_letters)\n",
    "    for li in range(len(line)):\n",
    "        letter = line[li]\n",
    "#         print(letter)\n",
    "        tensor[li][0][all_letters.find(letter)] = 1\n",
    "    return tensor\n",
    "\n",
    "# LongTensor of second letter to end (EOS) for target\n",
    "def targetTensor(line, keywords_dict):\n",
    "    all_letters = keywords_dict['all_letters']\n",
    "    n_letters = keywords_dict['n_letters']\n",
    "    letter_indexes = [all_letters.find(line[li]) for li in range(1, len(line))]\n",
    "    letter_indexes.append(n_letters - 1) # EOS\n",
    "    return torch.LongTensor(letter_indexes)\n",
    "\n",
    "def createTrainingExample(line, keywords_dict):\n",
    "#     category, line = randomTrainingPair()\n",
    "#     line = randomChoice(keywords_dict['name_vector'])\n",
    "#     category_tensor = categoryTensor(category)\n",
    "    input_line_tensor = inputTensor(line[:-1], keywords_dict)\n",
    "#     print(input_line_tensor)\n",
    "    target_line_tensor = targetTensor(line[1:], keywords_dict)\n",
    "#     print(target_line_tensor)\n",
    "\n",
    "#     return category_tensor, input_line_tensor, target_line_tensor\n",
    "    return input_line_tensor, target_line_tensor"
   ]
  },
  {
   "cell_type": "code",
   "execution_count": 34,
   "metadata": {
    "scrolled": true
   },
   "outputs": [
    {
     "name": "stdout",
     "output_type": "stream",
     "text": [
      "0m 34s (5000 12%) 70.1070\n",
      "1m 9s (10000 25%) 73.4348\n",
      "1m 44s (15000 37%) 56.4243\n",
      "2m 19s (20000 50%) 59.2242\n",
      "3m 0s (25000 62%) 62.6631\n",
      "3m 37s (30000 75%) 47.7216\n",
      "4m 11s (35000 87%) 65.3272\n",
      "4m 46s (40000 100%) 70.9743\n",
      "5m 20s (45000 112%) 61.2522\n",
      "5m 55s (50000 125%) 68.6125\n",
      "6m 29s (55000 137%) 70.4228\n",
      "7m 4s (60000 150%) 59.5296\n",
      "7m 39s (65000 162%) 76.0783\n",
      "8m 14s (70000 175%) 68.0206\n",
      "8m 48s (75000 187%) 45.2047\n",
      "9m 23s (80000 200%) 58.5100\n",
      "9m 58s (85000 212%) 67.6228\n",
      "10m 33s (90000 225%) 60.5775\n",
      "11m 8s (95000 237%) 83.5743\n",
      "11m 43s (100000 250%) 55.2759\n",
      "12m 18s (105000 262%) 57.5789\n",
      "12m 53s (110000 275%) 65.5471\n",
      "13m 27s (115000 287%) 43.0770\n",
      "14m 2s (120000 300%) 72.7007\n",
      "14m 37s (125000 312%) 64.4571\n",
      "15m 11s (130000 325%) 77.0386\n",
      "15m 46s (135000 337%) 75.1341\n",
      "16m 21s (140000 350%) 48.0656\n",
      "16m 56s (145000 362%) 67.5007\n",
      "17m 30s (150000 375%) 60.7033\n",
      "18m 5s (155000 387%) 52.4288\n",
      "18m 40s (160000 400%) 62.8611\n",
      "19m 15s (165000 412%) 69.8920\n",
      "19m 49s (170000 425%) 66.7631\n",
      "20m 24s (175000 437%) 70.7737\n",
      "20m 59s (180000 450%) 65.9114\n",
      "21m 34s (185000 462%) 64.7219\n",
      "22m 8s (190000 475%) 62.8494\n",
      "22m 43s (195000 487%) 55.7754\n",
      "23m 18s (200000 500%) 61.8062\n",
      "23m 53s (205000 512%) 69.8743\n",
      "24m 28s (210000 525%) 56.1243\n",
      "25m 3s (215000 537%) 61.0950\n",
      "25m 37s (220000 550%) 60.0259\n",
      "26m 12s (225000 562%) 63.5266\n",
      "26m 47s (230000 575%) 61.0772\n",
      "102m 6s (235000 587%) 59.6333\n",
      "102m 44s (240000 600%) 69.8803\n",
      "103m 20s (245000 612%) 74.3486\n",
      "103m 54s (250000 625%) 71.5787\n",
      "104m 30s (255000 637%) 73.8935\n",
      "105m 7s (260000 650%) 65.7397\n",
      "105m 41s (265000 662%) 66.0941\n",
      "106m 16s (270000 675%) 66.8434\n",
      "106m 50s (275000 687%) 66.1112\n",
      "107m 25s (280000 700%) 78.8799\n",
      "107m 59s (285000 712%) 55.5233\n",
      "108m 34s (290000 725%) 64.1963\n",
      "109m 9s (295000 737%) 60.1212\n",
      "109m 45s (300000 750%) 48.5369\n",
      "110m 20s (305000 762%) 52.7253\n",
      "110m 54s (310000 775%) 54.6070\n",
      "111m 30s (315000 787%) 73.4591\n",
      "112m 4s (320000 800%) 48.0773\n",
      "112m 38s (325000 812%) 54.0087\n",
      "113m 13s (330000 825%) 77.1089\n",
      "113m 47s (335000 837%) 58.7917\n",
      "114m 21s (340000 850%) 55.8373\n",
      "114m 55s (345000 862%) 62.6399\n",
      "115m 28s (350000 875%) 71.8467\n",
      "116m 2s (355000 887%) 75.3606\n",
      "116m 37s (360000 900%) 73.2951\n",
      "117m 11s (365000 912%) 65.7261\n",
      "117m 45s (370000 925%) 68.9933\n",
      "118m 19s (375000 937%) 68.3526\n",
      "118m 54s (380000 950%) 63.8563\n",
      "119m 28s (385000 962%) 72.8545\n",
      "120m 2s (390000 975%) 35.2395\n",
      "120m 36s (395000 987%) 62.9138\n"
     ]
    }
   ],
   "source": [
    "def running(rnn, optimizer, keywords_dict):\n",
    "    seq_length = keywords_dict['seq_length']\n",
    "\n",
    "    print_every = 5000\n",
    "    plot_every = 500\n",
    "    start = time.time()\n",
    "    \n",
    "    all_losses = []\n",
    "    total_loss = 0 # Reset every plot_every iters\n",
    "    loss_fun = nn.NLLLoss()\n",
    "\n",
    "    _iter, p = 0, 0\n",
    "    epoch = 0\n",
    "    while epoch < 10:\n",
    "        if p + seq_length +1 >= len(data):\n",
    "            epoch +=1\n",
    "            p = 0\n",
    "        input_line_tensor, target_line_tensor = createTrainingExample(data[p:p+seq_length+1], keywords_dict)\n",
    "#         print(input_line_tensor)\n",
    "        target_line_tensor.unsqueeze_(-1)\n",
    "        hidden = rnn.initHidden()\n",
    "        rnn.zero_grad()\n",
    "\n",
    "        loss = 0\n",
    "\n",
    "        for i in range(input_line_tensor.size(0)):\n",
    "            output, hidden = rnn(input_line_tensor[i], hidden)\n",
    "\n",
    "            l = loss_fun(output, target_line_tensor[i])\n",
    "            loss += l\n",
    "            \n",
    "        optimizer.zero_grad()\n",
    "        loss.backward()\n",
    "        optimizer.step()\n",
    "\n",
    "#         for para in rnn.parameters():\n",
    "#             para.data.add_(-learning_rate, para.grad.data)\n",
    "\n",
    "        p += seq_length # move data pointer\n",
    "        _iter += 1 # iteration counter\n",
    "\n",
    "        total_loss += loss\n",
    "\n",
    "        if _iter % print_every == 0:\n",
    "            print('%s (%d %d%%) %.4f' % (timeSince(start), _iter, _iter / (keywords_dict['data_size']/keywords_dict['seq_length']) * 100, loss))\n",
    "\n",
    "        if _iter % plot_every == 0:\n",
    "            all_losses.append(total_loss / plot_every)\n",
    "            total_loss = 0\n",
    "    return rnn, optimizer, all_losses\n",
    "rnn = RNN(keywords_dict['n_letters'], keywords_dict['hidden_size'], keywords_dict['n_letters'])\n",
    "optimizer = torch.optim.Adam(rnn.parameters(), lr=keywords_dict['learning_rate'])\n",
    "rnn, optimizer, all_losses = running(rnn, optimizer, keywords_dict)"
   ]
  },
  {
   "cell_type": "code",
   "execution_count": 18,
   "metadata": {},
   "outputs": [],
   "source": [
    "# rnn, all_losses = running(rnn, keywords_dict)"
   ]
  },
  {
   "cell_type": "code",
   "execution_count": 35,
   "metadata": {},
   "outputs": [
    {
     "data": {
      "text/plain": [
       "[<matplotlib.lines.Line2D at 0x123392208>]"
      ]
     },
     "execution_count": 35,
     "metadata": {},
     "output_type": "execute_result"
    },
    {
     "data": {
      "image/png": "[encoded data removed]",
      "text/plain": [
       "<Figure size 600x400 with 1 Axes>"
      ]
     },
     "metadata": {},
     "output_type": "display_data"
    }
   ],
   "source": [
    "import matplotlib.pyplot as plt\n",
    "import matplotlib.ticker as ticker\n",
    "%matplotlib inline\n",
    "plt.figure()\n",
    "plt.plot(all_losses)"
   ]
  },
  {
   "cell_type": "code",
   "execution_count": 44,
   "metadata": {},
   "outputs": [
    {
     "name": "stdout",
     "output_type": "stream",
     "text": [
      "ETI:I:I:I:s ee o o er o o \n"
     ]
    }
   ],
   "source": [
    "import random\n",
    "def generate_letter(dist):\n",
    "        x = random.random()\n",
    "        for c,v in enumerate(dist):\n",
    "            x = x - v\n",
    "            if x <= 0: return c\n",
    "import numpy as np\n",
    "# Sample from a category and starting letter\n",
    "def sample(rnn, keywords_dict, start_letter='E', max_length=25):\n",
    "    with torch.no_grad():  # no need to track history in sampling\n",
    "#         category_tensor = categoryTensor(category)\n",
    "        _input = inputTensor(start_letter, keywords_dict)\n",
    "        hidden = rnn.initHidden()\n",
    "\n",
    "        outputs = start_letter\n",
    "\n",
    "        for i in range(keywords_dict['seq_length']):\n",
    "            output, hidden = rnn(_input[0], hidden)\n",
    "            topv, topi = output.topk(1)\n",
    "#             dist = np.exp(np.array(output)[0])\n",
    "#             print(dist)\n",
    "            topi = topi[0][0]\n",
    "#             letter = keywords_dict['all_letters'][generate_letter(dist)]\n",
    "            letter = keywords_dict['all_letters'][topi]\n",
    "\n",
    "            outputs += letter\n",
    "            _input = inputTensor(letter, keywords_dict)\n",
    "\n",
    "        return outputs\n",
    "s = sample(rnn, keywords_dict)\n",
    "print(s)"
   ]
  },
  {
   "cell_type": "code",
   "execution_count": 19,
   "metadata": {},
   "outputs": [
    {
     "data": {
      "text/plain": [
       "0.1873001867320201"
      ]
     },
     "execution_count": 19,
     "metadata": {},
     "output_type": "execute_result"
    }
   ],
   "source": [
    "random.random()"
   ]
  },
  {
   "cell_type": "code",
   "execution_count": 13,
   "metadata": {},
   "outputs": [
    {
     "name": "stdout",
     "output_type": "stream",
     "text": [
      "Gradient of w 1 w.r.t to L:  tensor(-36.)\n",
      "Gradient of w 2 w.r.t to L:  tensor(-28.)\n",
      "Gradient of w 3 w.r.t to L:  tensor(-8.)\n",
      "Gradient of w 4 w.r.t to L:  tensor(-20.)\n"
     ]
    }
   ],
   "source": [
    "from torch import FloatTensor\n",
    "from torch.autograd import Variable\n",
    "\n",
    "\n",
    "# Define the leaf nodes\n",
    "a = Variable(FloatTensor([4]))\n",
    "\n",
    "weights = [Variable(FloatTensor([i]), requires_grad=True) for i in (2, 5, 9, 7)]\n",
    "\n",
    "# unpack the weights for nicer assignment\n",
    "w1, w2, w3, w4 = weights\n",
    "\n",
    "b = w1 * a\n",
    "c = w2 * a\n",
    "d = w3 * b + w4 * c\n",
    "L = (10 - d)\n",
    "\n",
    "L.backward()\n",
    "\n",
    "for index, weight in enumerate(weights, start=1):\n",
    "    gradient, *_ = weight.grad.data\n",
    "    print(\"Gradient of w\", index , \"w.r.t to L: \", gradient)"
   ]
  },
  {
   "cell_type": "code",
   "execution_count": 22,
   "metadata": {
    "collapsed": true
   },
   "outputs": [
    {
     "ename": "AttributeError",
     "evalue": "'Tensor' object has no attribute 'items'",
     "output_type": "error",
     "traceback": [
      "\u001b[0;31m---------------------------------------------------------------------------\u001b[0m",
      "\u001b[0;31mAttributeError\u001b[0m                            Traceback (most recent call last)",
      "\u001b[0;32m<ipython-input-22-6e16513a5704>\u001b[0m in \u001b[0;36m<module>\u001b[0;34m()\u001b[0m\n\u001b[0;32m----> 1\u001b[0;31m \u001b[0mweight\u001b[0m\u001b[0;34m.\u001b[0m\u001b[0mgrad\u001b[0m\u001b[0;34m.\u001b[0m\u001b[0mitems\u001b[0m\u001b[0;34m\u001b[0m\u001b[0m\n\u001b[0m",
      "\u001b[0;31mAttributeError\u001b[0m: 'Tensor' object has no attribute 'items'"
     ]
    }
   ],
   "source": []
  },
  {
   "cell_type": "code",
   "execution_count": 8,
   "metadata": {
    "collapsed": true
   },
   "outputs": [],
   "source": [
    "x = torch.tensor([1, 2, 3, 4])"
   ]
  },
  {
   "cell_type": "code",
   "execution_count": 9,
   "metadata": {},
   "outputs": [
    {
     "data": {
      "text/plain": [
       "tensor([[1],\n",
       "        [2],\n",
       "        [3],\n",
       "        [4]])"
      ]
     },
     "execution_count": 9,
     "metadata": {},
     "output_type": "execute_result"
    }
   ],
   "source": [
    "x.unsqueeze_(-1)"
   ]
  },
  {
   "cell_type": "code",
   "execution_count": 3,
   "metadata": {},
   "outputs": [
    {
     "data": {
      "text/plain": [
       "3484584"
      ]
     },
     "execution_count": 3,
     "metadata": {},
     "output_type": "execute_result"
    }
   ],
   "source": [
    "4*(3* (516 * 516 + 516) +2*516*68+68+518+68)"
   ]
  },
  {
   "cell_type": "code",
   "execution_count": null,
   "metadata": {
    "collapsed": true
   },
   "outputs": [],
   "source": []
  }
 ],
 "metadata": {
  "kernelspec": {
   "display_name": "Python 3",
   "language": "python",
   "name": "python3"
  },
  "language_info": {
   "codemirror_mode": {
    "name": "ipython",
    "version": 3
   },
   "file_extension": ".py",
   "mimetype": "text/x-python",
   "name": "python",
   "nbconvert_exporter": "python",
   "pygments_lexer": "ipython3",
   "version": "3.6.4"
  }
 },
 "nbformat": 4,
 "nbformat_minor": 1
}
